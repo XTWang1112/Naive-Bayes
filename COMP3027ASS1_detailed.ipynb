{
 "cells": [
  {
   "cell_type": "markdown",
   "metadata": {},
   "source": [
    "### The University of Melbourne, School of Computing and Information Systems\n",
    "# COMP30027 Machine Learning, 2022 Semester 1\n",
    "\n",
    "## Assignment 1: Naive Bayes Leaner for Adult Database\n"
   ]
  },
  {
   "cell_type": "markdown",
   "metadata": {},
   "source": [
    "**Student Name(s):** Xiaotong Wang\n",
    "<br>\n",
    "**Student ID(s):** 1132828"
   ]
  },
  {
   "cell_type": "markdown",
   "metadata": {},
   "source": [
    "\n",
    "\n",
    "Marking will be applied on the four functions that are defined in this notebook, and to your responses to the questions at the end of this notebook.\n",
    "\n",
    "## General info\n",
    "\n",
    "<b>Due date</b>: Friday, 8 April 2022 7pm\n",
    "\n",
    "<b>Submission method</b>: Canvas submission\n",
    "\n",
    "<b>Submission materials</b>: This iPython notebook is a template which you will use for your Assignment 1 submission. You need to only submitted the completed copy of this iPython notebook.\n",
    "\n",
    "<b>Late submissions</b>: -10% per day up to 5 days (both weekdays and weekends count). Submissions more than 5 days late will not be accepted (resul in a mark of 0).\n",
    "<ul>\n",
    "    <li>one day late, -1.0;</li>\n",
    "    <li>two days late, -2.0;</li>\n",
    "    <li>three days late, -3.0;</li>\n",
    "    <li>four days late, -4.0;</li>\n",
    "    <li>five days late, -5.0;</li>\n",
    "</ul>\n",
    "\n",
    "<b>Extensions</b>: Students who are demonstrably unable to submit a full solution in time due to medical reasons or other trauma, may apply for an extension.  In these cases, you should email <a href=\"mailto:ni.ding@unimelb.edu.au\">Ni Ding</a> as soon as possible after those circumstances arise. If you attend a GP or other health care service as a result of illness, be sure to provide a Health Professional Report (HPR) form (get it from the Special Consideration section of the Student Portal), you will need this form to be filled out if your illness develops into something that later requires a Special Consideration application to be lodged. You should scan the HPR form and send it with the extension requests.\n",
    "\n",
    "<b>Marks</b>: This assignment will be marked out of 20, and make up 20% of your overall mark for this subject.\n",
    "\n",
    "<b>Materials</b>: Use Jupyter Notebook and Python page on Canvas for information on the basic setup required for this class, including an iPython notebook viewer and the python packages NLTK, Numpy, Scipy, Matplotlib, Scikit-Learn. You can use any Python built-in packages, but do not use any other 3rd party packages; if your iPython notebook doesn't run on the marker's machine, you will lose marks. <b> You should use Python 3</b>.  \n",
    "\n",
    "\n",
    "<b>Evaluation</b>: Your iPython notebook should run end-to-end without any errors in a reasonable amount of time, and you must follow all instructions provided below, including specific implementation requirements and instructions for what needs to be printed (please avoid printing output we don't ask for). You should edit the sections below where requested, but leave the rest of the code as is. You should leave the output from running your code in the iPython notebook you submit, to assist with marking. The amount each section is worth is given in parenthesis after the instructions. \n",
    "\n",
    "You will be marked not only on the correctness of your methods, but also the quality and efficency of your code: in particular, you should be careful to use Python built-in functions and operators when appropriate and pick descriptive variable names that adhere to <a href=\"https://www.python.org/dev/peps/pep-0008/\">Python style requirements</a>. If you think it might be unclear what you are doing, you should comment your code to help the marker make sense of it. We reserve the right to deduct up to 2 marks for unreadable or exessively inefficient code.\n",
    "\n",
    "8 of the marks available for this Project will be assigned to whether the four specified Python functions work in a manner consistent with the materials from COMP30027. Any other implementation will not be directly assessed (except insofar as it is required to make these five functions work correctly).\n",
    "\n",
    "12 of the marks will be assigned to your responses to the questions, in terms of both accuracy and insightfulness. We will be looking for evidence that you have an implementation that allows you to explore the problem, but also that you have thought deeply about the data and the behaviour of the Naive Bayes classifier.\n",
    "\n",
    "<b>Updates</b>: Any major changes to the assignment will be announced via Canvas. Minor changes and clarifications will be announced on the discussion board (ED -> Assignments -> A1); we recommend you check it regularly.\n",
    "\n",
    "<b>Academic misconduct</b>: For most people, collaboration will form a natural part of the undertaking of this homework, and we encourge you to discuss it in general terms with other students. However, this ultimately is still an individual task, and so reuse of code or other instances of clear influence will be considered cheating. Please check the <a href=\"https://canvas.lms.unimelb.edu.au/courses/124196/modules#module_662096\">CIS Academic Honesty training</a> for more information. We will be checking submissions for originality and will invoke the University’s <a href=\"http://academichonesty.unimelb.edu.au/policy.html\">Academic Misconduct policy</a> where inappropriate levels of collusion or plagiarism are deemed to have taken place.\n",
    "\n",
    "**IMPORTANT**\n",
    "\n",
    "Please carefully read and fill out the <b>Authorship Declaration</b> form at the bottom of the page. Failure to fill out this form results in the following deductions: \n",
    "<UL TYPE=”square”>\n",
    "<LI>missing Authorship Declaration at the bottom of the page, -5.0\n",
    "<LI>incomplete or unsigned Authorship Declaration at the bottom of the page, -3.0\n",
    "</UL>\n",
    "**NOTE: COMPLETE AND SUBMIT THIS FILE. YOU SHOULD IMPLEMENT FOUR FUNCTIONS AND INCLUDE YOUR ANSWERS TO THE QUESTIONS IN THIS FILE ONLY. NO OTHER SUBMISSION IS REQUIRED.**\n",
    "\n",
    "**Keep your code clean. Adding proper comments to your code is MANDATORY.**"
   ]
  },
  {
   "cell_type": "markdown",
   "metadata": {},
   "source": [
    "## Part 1: Base code [8 marks]\n",
    "\n",
    "Instructions\n",
    "1. Do **not** shuffle the data set\n",
    "2. Treat the attributes as they are(e.g., do **not** convert numeric attributes to categorical or categorical to numeric). Implement a Naive Bayes classifier with appropriate likelihood function for each attribute.\n",
    "3. You should implement the Naive Bayes classifier from scratch. Do **not** use existing implementations/learning algorithms.\n",
    "4. You CANNOT have more than one train or predict function. Both continuous numeric attributes and categorical ones should be trained in one `train()` function, similarly for the `predict()`.  \n",
    "5. Apart from the instructions in point 3, you may use libraries to help you with data reading, representation, maths or evaluation\n",
    "6. Ensure that all and only required information is printed, as indicated in the final three code cells. Failure to adhere to print the required information will result in **[-1 mark]** per case. *(We don't mind details like you print a list or several numbers -- just make sure the information is displayed so that it's easily accessible)\n",
    "7. You may change the prototypes of these functions, and you may write other functions, according to your requirements. We would appreciate it if the required functions were prominent/easy to find. \n",
    "8. You should add adequate comments to make your code easily comprehendible.*"
   ]
  },
  {
   "cell_type": "code",
   "execution_count": 1,
   "metadata": {},
   "outputs": [],
   "source": [
    "import pandas as pd\n",
    "import numpy as np\n",
    "from collections import Counter\n",
    "from sklearn.model_selection import train_test_split"
   ]
  },
  {
   "cell_type": "code",
   "execution_count": 2,
   "metadata": {},
   "outputs": [],
   "source": [
    "# This function should prepare the data by reading it from a file and converting it into a useful format for training and testing\n",
    "# and implement 90-10 splitting as specified in the project description.\n",
    "def preprocess(filename):\n",
    "    data = pd.read_csv(filename)\n",
    "    \n",
    "    X = data.iloc[:,:-1]\n",
    "    y = data.iloc[:,-1:]\n",
    "    \n",
    "    X_train, X_test, y_train, y_test = train_test_split(X, y, test_size = 0.1,shuffle = False)\n",
    "    \n",
    "    return X_train, X_test, y_train, y_test"
   ]
  },
  {
   "cell_type": "code",
   "execution_count": 51,
   "metadata": {},
   "outputs": [],
   "source": [
    "# This function should calculat prior probabilities and likelihoods (conditional probabilities) from the training data and using\n",
    "# to build a naive Bayes model\n",
    "\n",
    "def train(X_train, y_train):\n",
    "\n",
    "    priors = []\n",
    "    frequency = Counter(y_train[\"label\"])\n",
    "    for i in frequency:\n",
    "        priors.append(np.log(frequency.get(i)/len(y_train)))\n",
    "    \n",
    "    norminals = ['work class', 'education','marital status','occupation','relationship','race','sex','native country (region)']\n",
    "    numerics = ['age', 'education num', 'hours per week']\n",
    "    \n",
    "    #likelihood for norminals\n",
    "    parametersNorm = []\n",
    "    for attr in norminals:\n",
    "        values = np.sort(list(Counter(X_train[attr]).keys()))\n",
    "        df = pd.DataFrame(index= list(frequency.keys()), columns = values)\n",
    "        for i in frequency:\n",
    "            given = frequency.get(i)    \n",
    "            indices = [j for j, x in enumerate(y_train[\"label\"]) if x == i]\n",
    "            llh = []\n",
    "            for value in values:\n",
    "                if value in Counter(X_train[attr].iloc[indices]):\n",
    "                    llh.append(np.log(Counter(X_train[attr].iloc[indices]).get(value)/given))\n",
    "                else:\n",
    "                    llh.append(0)\n",
    "            df.loc[i] = llh\n",
    "        parametersNorm.append(df)\n",
    "\n",
    "    parametersNorm[0]\n",
    "        \n",
    "    #parameters for numerics\n",
    "    parametersNum = []\n",
    "    means = []\n",
    "    stds = []\n",
    "    for num in numerics:\n",
    "        for i in frequency:\n",
    "            indices = [j for j, x in enumerate(y_train[\"label\"]) if x == i]\n",
    "\n",
    "            notMissing = 0\n",
    "            summ = 0\n",
    "            summDiff = 0\n",
    "            for v in X_train[num].iloc[indices]:\n",
    "                if (v == ' ?')|(v == '?'):\n",
    "                    continue\n",
    "                summ += int(v)\n",
    "                notMissing += 1\n",
    "            mean = summ/notMissing\n",
    "            means.append(mean)\n",
    "            for v in X_train[num].iloc[indices]:\n",
    "                if (v == ' ?')|(v == '?'):\n",
    "                    continue\n",
    "                summDiff += (int(v)-mean)**2\n",
    "            stds.append(np.sqrt(summDiff/(notMissing-1)))\n",
    "\n",
    "    parametersNum.append(means)\n",
    "    parametersNum.append(stds)\n",
    "       \n",
    "    return priors, parametersNorm, parametersNum, norminals, numerics"
   ]
  },
  {
   "cell_type": "code",
   "execution_count": 52,
   "metadata": {},
   "outputs": [],
   "source": [
    "# This function should predict classes for new items in the testing data\n",
    "def predict(X_train, X_test, y_train, priors, parametersNorm, parametersNum, norminals, numerics):\n",
    "    attributes = list(X_train.columns)\n",
    "    frequency = Counter(y_train[\"label\"])\n",
    "\n",
    "    predictLabels = []\n",
    "    classProbs = []\n",
    "    for row in range(len(X_test)):\n",
    "        probs = []\n",
    "        for c in frequency:\n",
    "            label = 0\n",
    "            result = 0\n",
    "            normIndex = 0\n",
    "            numIndex = 0\n",
    "            for attr in attributes:\n",
    "                if attr in norminals:\n",
    "                    value = X_test.iloc[row][attr]\n",
    "                    \n",
    "                    #igonre values that never appear in training set\n",
    "                    if value not in Counter(X_train[attr]):\n",
    "                        normIndex += 1\n",
    "                        continue\n",
    "                    else:\n",
    "                        result = result + parametersNorm[normIndex].loc[c].loc[value]\n",
    "                        normIndex = normIndex + 1\n",
    "            \n",
    "                elif attr in numerics:\n",
    "                    value = X_test.iloc[row][attr]\n",
    "                    if (value == ' ?')|(value == '?'):\n",
    "                        continue\n",
    "                    else:\n",
    "                        mu = parametersNum[0][2*numIndex+list(frequency).index(c)]\n",
    "                        sigma = parametersNum[1][2*numIndex+list(frequency).index(c)]\n",
    "                        numIndex = numIndex + 1\n",
    "                        result = result   \\\n",
    "                        + np.log((1/(sigma*np.sqrt(2*np.pi)))*np.exp((-1/2)*((int(value)-mu)/sigma)**2))\n",
    "            result = result + priors[list(frequency).index(c)]\n",
    "            probs.append(result)\n",
    "        classProbs.append(probs)\n",
    "        predictLabels.append(list(frequency)[probs.index(max(probs))])            \n",
    "    return predictLabels, classProbs"
   ]
  },
  {
   "cell_type": "code",
   "execution_count": 53,
   "metadata": {},
   "outputs": [],
   "source": [
    "# This function should evaliate the prediction performance by comparing your model’s class outputs to ground\n",
    "# truth labels, return and output accuracy, confusion matrix and F1 score.\n",
    "\n",
    "def evaluate(predictLabels, y_test):\n",
    "    TP = 0\n",
    "    TN = 0\n",
    "    FN = 0\n",
    "    FP = 0\n",
    "    for i in range(len(y_test)):\n",
    "        if predictLabels[i] == y_test[\"label\"].iloc[i]:\n",
    "            if predictLabels[i] == ' <=50K':\n",
    "                TP += 1\n",
    "            elif predictLabels[i] == ' >50K':\n",
    "                TN += 1\n",
    "        elif predictLabels[i] != y_test[\"label\"].iloc[i]:\n",
    "            if (predictLabels[i] == ' >50K')&(y_test[\"label\"].iloc[i] ==' <=50K'):\n",
    "                FN += 1\n",
    "            elif (predictLabels[i] == ' <=50K')&(y_test[\"label\"].iloc[i] ==' >50K'):\n",
    "                FP += 1\n",
    "\n",
    "    #accuracy\n",
    "    accuracy = (TP+TN)/(TP+FP+FN+TN)\n",
    "\n",
    "    #confusion matrix\n",
    "    cm = np.array([[0,0],[0,0]])\n",
    "    cm[0][0] = TP\n",
    "    cm[0][1] = FN\n",
    "    cm[1][0] = FP\n",
    "    cm[1][1] = TN\n",
    "    \n",
    "    #F1 score\n",
    "    p = TP/(TP+FP)\n",
    "    r = TP/(TP+FN)\n",
    "    F1 = (2*p*r)/(p+r)\n",
    "    \n",
    "    print(cm, '\\nAccuracy: ',accuracy, '\\nF1 score: ',F1)\n",
    "\n",
    "    return cm, accuracy, F1"
   ]
  },
  {
   "cell_type": "code",
   "execution_count": 54,
   "metadata": {},
   "outputs": [
    {
     "name": "stdout",
     "output_type": "stream",
     "text": [
      "[[66 11]\n",
      " [ 6 17]] \n",
      "Accuracy:  0.83 \n",
      "F1 score:  0.8859060402684563\n",
      "Attribute vectors of instances [0, 1, 2]:  [[68 ' ?' ' 1st-4th' 2 ' Divorced' ' ?' ' Not-in-family' ' White'\n",
      "  ' Female' 20 ' United-States']\n",
      " [39 ' State-gov' ' Bachelors' 13 ' Never-married' ' Adm-clerical'\n",
      "  ' Not-in-family' ' White' ' Male' 40 ' United-States']\n",
      " [50 ' Self-emp-not-inc' ' Bachelors' 13 ' Married-civ-spouse'\n",
      "  ' Exec-managerial' ' Husband' ' White' ' Male' 13 ' United-States']]\n",
      "\n",
      "Number of instances (N):  1000\n",
      "Number of attributes (F):  11\n",
      "Number of labels (L):  2\n",
      "\n",
      "\n",
      "Predicted class probabilities for instance N-3:  [1.00638918e-09 3.21231604e-09]\n",
      "Predicted class ID for instance N-3:  1\n",
      "\n",
      "Predicted class probabilities for instance N-2:  [9.89421733e-12 1.32479954e-10]\n",
      "Predicted class ID for instance N-2:  1\n",
      "\n",
      "Predicted class probabilities for instance N-1:  [4.79649664e-08 5.49697947e-08]\n",
      "Predicted class ID for instance N-1:  1\n"
     ]
    }
   ],
   "source": [
    "# This cell should act as your \"main\" function where you call the above functions \n",
    "# on the full ADULT data set, and print the evaluation score. [0.33 marks]\n",
    "\n",
    "\n",
    "\n",
    "# First, read in the data and apply your NB model to the OBJECTIVITY data\n",
    "X_train, X_test, y_train, y_test = preprocess('adult.csv')\n",
    "priors, parametersNorm, parametersNum, norminals, numerics = train(X_train, y_train)\n",
    "predictLabels, classProbs= predict(X_train, X_test, y_train,priors, parametersNorm, parametersNum, norminals, numerics)\n",
    "\n",
    "\n",
    "\n",
    "\n",
    "\n",
    "# Second, print the full evaluation results from the evaluate() function\n",
    "cm, accuracy, F1 = evaluate(predictLabels, y_test)\n",
    "\n",
    "\n",
    "\n",
    "\n",
    "\n",
    "# Third, print data statistics and model predictions, as instructed below \n",
    "# N is the total number of instances, F the total number of attributes, L the total number of labels\n",
    "# The \"class probabilities\" may be unnormalized\n",
    "# The \"predicted class ID\" must be in range (0, L)\n",
    "\n",
    "print(\"Attribute vectors of instances [0, 1, 2]: \", X_train.iloc[0:3].values)\n",
    "\n",
    "print(\"\\nNumber of instances (N): \", len(X_train)+len(X_test))\n",
    "print(\"Number of attributes (F): \", len(norminals)+len(numerics))\n",
    "print(\"Number of labels (L): \", len((y_train.append(y_test))[\"label\"].unique()))\n",
    "\n",
    "#0: <=50K, 1: >50K\n",
    "print(\"\\n\\nPredicted class probabilities for instance N-3: \", np.exp(classProbs[len(X_test)-3]))\n",
    "print(\"Predicted class ID for instance N-3: \", classProbs[len(X_test)-3].index(max(classProbs[len(X_test)-3])))\n",
    "print(\"\\nPredicted class probabilities for instance N-2: \", np.exp(classProbs[len(X_test)-2]))\n",
    "print(\"Predicted class ID for instance N-2: \", classProbs[len(X_test)-2].index(max(classProbs[len(X_test)-2])))\n",
    "print(\"\\nPredicted class probabilities for instance N-1: \", np.exp(classProbs[len(X_test)-1]))\n",
    "print(\"Predicted class ID for instance N-1: \", classProbs[len(X_test)-1].index(max(classProbs[len(X_test)-1])))\n",
    "\n"
   ]
  },
  {
   "cell_type": "markdown",
   "metadata": {},
   "source": [
    "## Part 2: Conceptual questions [8 marks for groups of 1] / [16 marks for groups of 2]\n",
    "\n",
    "\n",
    "If you are in a group of 1, you should respond to Q1 and Q2.\n",
    "\n",
    "If you are in a group of 2, you should respond to Q1, Q2, Q3 and Q4.\n",
    "\n",
    "A response to a question should take about 100–250 words. You may need to develope codes or functions to help respond to the question here. \n",
    "\n",
    "#### NOTE: We strongly recommend <u>including figures or tables, etc.</u> to support your responses. The figures and tables inserted in Markdown cells must be reproducable by your code."
   ]
  },
  {
   "cell_type": "markdown",
   "metadata": {},
   "source": [
    "### Q1 [4 marks]\n",
    "<u>Sensitivity</u> and <u>specificity</u> are two model evaluation metrics.  A good model should have both sensitivity and specificity high. Use the $2 \\times 2$ confusion matrix returned by `evaluate()` to calculate the sensitivity and specificity. Do you see a difference between them? If so, what causes this difference? Provide suggestions to improve the model performance. "
   ]
  },
  {
   "cell_type": "code",
   "execution_count": 7,
   "metadata": {},
   "outputs": [
    {
     "name": "stdout",
     "output_type": "stream",
     "text": [
      "Sensitivity:  0.8571428571428571 \n",
      "Specificity:  0.7391304347826086\n"
     ]
    }
   ],
   "source": [
    "# Write additional code here, if necessary (you may insert additional code cells)\n",
    "sensitivity = cm[0][0]/(cm[0][0]+cm[0][1])\n",
    "specificity = cm[1][1]/(cm[1][1]+cm[1][0])\n",
    "print('Sensitivity: ', sensitivity, '\\nSpecificity: ', specificity)"
   ]
  },
  {
   "cell_type": "code",
   "execution_count": 8,
   "metadata": {},
   "outputs": [
    {
     "data": {
      "text/plain": [
       "Counter({' <=50K': 769, ' >50K': 231})"
      ]
     },
     "execution_count": 8,
     "metadata": {},
     "output_type": "execute_result"
    }
   ],
   "source": [
    "Counter(y_train.append(y_test)[\"label\"])"
   ]
  },
  {
   "cell_type": "markdown",
   "metadata": {},
   "source": [
    "Sensitivity is higher than specificity, this means that my model is more accurate for instances with label ' <=50K’(positive).\n",
    "\n",
    "This may be caused by classes being not evenly distributed. We have 769 positives and 231 negatives,  this will give us a higher prior probability of positive class, and my model will more likely to predict instances as positive instead of negative. Since here we have more TP than TN, and the amount of FP and FN do not have huge difference like TP and TN do, when we calculate sensitivity and specificity with formulae, we tend to have higher sensitivity than specificity here.\n",
    "\n",
    "We can improve by providing the same amount of positive instances and negative instances. Also, when we split dataset into training and testing, we need to make sure both of them have the classes evenly distributed.\n",
    "\n",
    "Also,  different method of addressing missing value will also affect our evaluations. For this model, since there is no missing value for numeric attributes, the only way we can improve  the evaluations at this point is to try a different method to address missing value. for nominal attributes. We can try to just ignore missing value during training and predicting."
   ]
  },
  {
   "cell_type": "markdown",
   "metadata": {},
   "source": [
    "### Q2 [4 marks]\n",
    "You can adopt different methods for training and/or testing, which will produce different results in model evaluation. \n",
    "\n",
    "(a) Instead of Gaussian, <u>implement KDE</u> for  $P(X_i|c_j)$ for numeric attributes $X_i$. Compare the evaluation results with Gaussian. Which one do you think is more suitable to model $P(X_i|c_j)$, Gaussian or KDE? Observe all numeric attributes and justify your answer.\n",
    "\n",
    "You can choose an arbitrary value for kernel bandwidth $\\sigma$ for KDE, but a value between 3 and 15 is recommended. You should write code to implement KDE, not call an existing function/method such as `KernelDensity` from `scikit-learn`.\n",
    "\n",
    "(b) Implement <u>10-fold and 2-fold cross-validations</u>.  \n",
    "\tObserve the evaluation results in each fold and the average accuracy, recall and specificity over all folds. \n",
    "\tComment on what is the effect by changing the values of $m$ in $m$-fold cross validation. (You can choose either Gaussian or KDE Naive Bayes.)"
   ]
  },
  {
   "cell_type": "markdown",
   "metadata": {
    "jupyter": {
     "outputs_hidden": true
    }
   },
   "source": [
    "Provide your text answer of 150-200 words in this cell."
   ]
  },
  {
   "cell_type": "code",
   "execution_count": 55,
   "metadata": {},
   "outputs": [],
   "source": [
    "def trainKDE(X_train, y_train):\n",
    "\n",
    "    priors = []\n",
    "    frequency = Counter(y_train[\"label\"])\n",
    "    for i in frequency:\n",
    "        priors.append(np.log(frequency.get(i)/len(y_train)))\n",
    "    \n",
    "    norminals = ['work class', 'education','marital status','occupation','relationship','race','sex','native country (region)']\n",
    "    numerics = ['age', 'education num', 'hours per week']\n",
    "    \n",
    "    #likelihood for norminals\n",
    "    parametersNorm = []\n",
    "    for attr in norminals:\n",
    "        values = np.sort(list(Counter(X_train[attr]).keys()))\n",
    "        df = pd.DataFrame(index= list(frequency.keys()), columns = values)\n",
    "        for i in frequency:\n",
    "            given = frequency.get(i)    \n",
    "            indices = [j for j, x in enumerate(y_train[\"label\"]) if x == i]\n",
    "            llh = []\n",
    "            for value in values:\n",
    "                if value in Counter(X_train[attr].iloc[indices]):\n",
    "                    llh.append(np.log(Counter(X_train[attr].iloc[indices]).get(value)/given))\n",
    "                else:\n",
    "                    llh.append(0)\n",
    "            df.loc[i] = llh\n",
    "        parametersNorm.append(df)\n",
    "\n",
    "    parametersNorm[0]\n",
    "        \n",
    "    #likelihood for numerics\n",
    "    N = []\n",
    "    for i in frequency:\n",
    "        indices = [j for j, x in enumerate(y_train[\"label\"]) if x == i]\n",
    "        N.append(len(indices))\n",
    "    return priors, parametersNorm, N, norminals, numerics"
   ]
  },
  {
   "cell_type": "code",
   "execution_count": 56,
   "metadata": {},
   "outputs": [],
   "source": [
    "def predictKDE(X_train, X_test, y_train, bandwidth, priors, parametersNorm, N, norminals, numerics):\n",
    "    attributes = list(X_train.columns)\n",
    "    frequency = Counter(y_train[\"label\"])\n",
    "\n",
    "    predictLabels = []\n",
    "    classProbs = []\n",
    "    for row in range(len(X_test)):\n",
    "        probs = []\n",
    "        for c in frequency:\n",
    "            classIndex = list(frequency).index(c)\n",
    "            indices = [j for j, x in enumerate(y_train[\"label\"]) if x == c]\n",
    "            label = 0\n",
    "            result = 0\n",
    "            normIndex = 0\n",
    "            numIndex = 0\n",
    "            for attr in attributes:\n",
    "                if attr in norminals:\n",
    "                    value = X_test.iloc[row][attr]\n",
    "                    \n",
    "                    #igonre values that never appear in training set\n",
    "                    if value not in Counter(X_train[attr]):\n",
    "                        normIndex += 1\n",
    "                        continue\n",
    "                    else:\n",
    "                        result = result + parametersNorm[normIndex].loc[c].loc[value]\n",
    "                        normIndex = normIndex + 1\n",
    "            \n",
    "                elif attr in numerics:\n",
    "                    summ = 0\n",
    "                    testValue = X_test.iloc[row][attr]\n",
    "                    value = X_test.iloc[row][attr]\n",
    "                    if (value == ' ?')|(value == '?'):\n",
    "                        continue\n",
    "                    for i in indices:\n",
    "                        summ += (1/(bandwidth*np.sqrt(2*np.pi)))*  \\\n",
    "                            np.exp((-1/2)*((int(testValue)-X_train.iloc[i][attr])/bandwidth)**2)\n",
    "                    result = result + np.log(summ/N[classIndex])\n",
    "                                            \n",
    "            result = result + priors[classIndex]\n",
    "            probs.append(result)\n",
    "        classProbs.append(probs)\n",
    "        predictLabels.append(list(frequency)[probs.index(max(probs))])            \n",
    "    return predictLabels, classProbs"
   ]
  },
  {
   "cell_type": "code",
   "execution_count": 57,
   "metadata": {},
   "outputs": [
    {
     "name": "stdout",
     "output_type": "stream",
     "text": [
      "[[64 13]\n",
      " [ 5 18]] \n",
      "Accuracy:  0.82 \n",
      "F1 score:  0.8767123287671235\n",
      "[[61 16]\n",
      " [ 6 17]] \n",
      "Accuracy:  0.78 \n",
      "F1 score:  0.8472222222222222\n",
      "[[59 18]\n",
      " [ 6 17]] \n",
      "Accuracy:  0.76 \n",
      "F1 score:  0.8309859154929577\n",
      "[[59 18]\n",
      " [ 6 17]] \n",
      "Accuracy:  0.76 \n",
      "F1 score:  0.8309859154929577\n",
      "[[60 17]\n",
      " [ 6 17]] \n",
      "Accuracy:  0.77 \n",
      "F1 score:  0.8391608391608392\n",
      "[[60 17]\n",
      " [ 6 17]] \n",
      "Accuracy:  0.77 \n",
      "F1 score:  0.8391608391608392\n",
      "[[60 17]\n",
      " [ 5 18]] \n",
      "Accuracy:  0.78 \n",
      "F1 score:  0.8450704225352113\n",
      "[[58 19]\n",
      " [ 5 18]] \n",
      "Accuracy:  0.76 \n",
      "F1 score:  0.8285714285714286\n",
      "[[59 18]\n",
      " [ 5 18]] \n",
      "Accuracy:  0.77 \n",
      "F1 score:  0.8368794326241135\n",
      "[[59 18]\n",
      " [ 5 18]] \n",
      "Accuracy:  0.77 \n",
      "F1 score:  0.8368794326241135\n",
      "[[59 18]\n",
      " [ 5 18]] \n",
      "Accuracy:  0.77 \n",
      "F1 score:  0.8368794326241135\n",
      "[[60 17]\n",
      " [ 5 18]] \n",
      "Accuracy:  0.78 \n",
      "F1 score:  0.8450704225352113\n",
      "[[60 17]\n",
      " [ 5 18]] \n",
      "Accuracy:  0.78 \n",
      "F1 score:  0.8450704225352113\n"
     ]
    }
   ],
   "source": [
    "#Q2(a)\n",
    "bandwidths = [3,4,5,6,7,8,9,10,11,12,13,14,15]\n",
    "kdeF1s = []\n",
    "for b in bandwidths:\n",
    "    priors, parametersNorm, N, norminals, numerics = trainKDE(X_train, y_train)\n",
    "    predictLabelsKDE, classProbsKDE =predictKDE(X_train, X_test, y_train,b,priors, parametersNorm, N, norminals, numerics)\n",
    "    cmKDE, accuracyKDE, F1KDE = evaluate(predictLabelsKDE, y_test)\n",
    "    kdeF1s.append(F1KDE)"
   ]
  },
  {
   "cell_type": "code",
   "execution_count": 58,
   "metadata": {},
   "outputs": [],
   "source": [
    "import matplotlib.pyplot as plt"
   ]
  },
  {
   "cell_type": "code",
   "execution_count": 59,
   "metadata": {},
   "outputs": [
    {
     "data": {
      "image/png": "[encoded data removed]",
      "text/plain": [
       "<Figure size 432x288 with 1 Axes>"
      ]
     },
     "metadata": {
      "needs_background": "light"
     },
     "output_type": "display_data"
    }
   ],
   "source": [
    "#Compare performance of two models\n",
    "plt.plot(bandwidths, kdeF1s, label = \"KDE\")\n",
    "plt.plot([bandwidths[0],bandwidths[-1]], [F1, F1], label = \"Gaussian\")\n",
    "plt.ylim(0.8, 0.9)\n",
    "plt.xlabel(\"Bandwidth\")\n",
    "plt.ylabel(\"F1 socre\")\n",
    "plt.title(\"Gaussian NB vs KDE NB\")\n",
    "plt.legend()\n",
    "\n",
    "plt.show()"
   ]
  },
  {
   "cell_type": "code",
   "execution_count": 60,
   "metadata": {
    "scrolled": true
   },
   "outputs": [
    {
     "data": {
      "image/png": "[encoded data removed]",
      "text/plain": [
       "<Figure size 432x288 with 1 Axes>"
      ]
     },
     "metadata": {
      "needs_background": "light"
     },
     "output_type": "display_data"
    }
   ],
   "source": [
    "plt.hist(X_train[\"age\"], bins = 15)\n",
    "plt.title(\"Age distribution\")\n",
    "plt.show()"
   ]
  },
  {
   "cell_type": "code",
   "execution_count": 61,
   "metadata": {
    "scrolled": true
   },
   "outputs": [
    {
     "data": {
      "image/png": "[encoded data removed]",
      "text/plain": [
       "<Figure size 432x288 with 1 Axes>"
      ]
     },
     "metadata": {
      "needs_background": "light"
     },
     "output_type": "display_data"
    }
   ],
   "source": [
    "plt.hist(X_train[\"education num\"], color='orange', bins = 15)\n",
    "plt.title(\"Education num distribution\")\n",
    "plt.show()"
   ]
  },
  {
   "cell_type": "code",
   "execution_count": 62,
   "metadata": {
    "scrolled": false
   },
   "outputs": [
    {
     "data": {
      "image/png": "[encoded data removed]",
      "text/plain": [
       "<Figure size 432x288 with 1 Axes>"
      ]
     },
     "metadata": {
      "needs_background": "light"
     },
     "output_type": "display_data"
    }
   ],
   "source": [
    "plt.hist(X_train[\"hours per week\"], color='green', bins = 20)\n",
    "plt.title(\"Hours per week distribution\")\n",
    "plt.show()"
   ]
  },
  {
   "cell_type": "markdown",
   "metadata": {},
   "source": [
    "From the \"Gaussian NB vs KDE NB” plot above, we can tell that no matter what value we choose for bandwidth between from 3 to 15, Gaussian naive bayes also perform better. Therefor Gaussian NB is more suitable for this dataset.\n",
    "\n",
    "From the distribution graphs above, we can see that all three numeric attributes more or less follow a Gaussian distribution. When we implement Gaussian NB, we assume all numeric attributes follow a Gaussian distribution. This might be the reason why Gaussian is more accurate here.\n",
    "If we do not have Gaussian distributions here, or those numeric attributes have more complicated distributions, KDE NB is definitely a  better option."
   ]
  },
  {
   "cell_type": "code",
   "execution_count": 63,
   "metadata": {},
   "outputs": [],
   "source": [
    "#Q2(b)\n",
    "from sklearn.model_selection import KFold"
   ]
  },
  {
   "cell_type": "code",
   "execution_count": 77,
   "metadata": {},
   "outputs": [],
   "source": [
    "def evaluateCrossV(predictLabels, y_test, k):\n",
    "    TP = 0\n",
    "    TN = 0\n",
    "    FN = 0\n",
    "    FP = 0\n",
    "    for i in range(len(y_test)):\n",
    "        if predictLabels[i] == y_test[\"label\"].iloc[i]:\n",
    "            if predictLabels[i] == ' <=50K':\n",
    "                TP += 1\n",
    "            elif predictLabels[i] == ' >50K':\n",
    "                TN += 1\n",
    "        elif predictLabels[i] != y_test[\"label\"].iloc[i]:\n",
    "            if (predictLabels[i] == ' >50K')&(y_test[\"label\"].iloc[i] ==' <=50K'):\n",
    "                FN += 1\n",
    "            elif (predictLabels[i] == ' <=50K')&(y_test[\"label\"].iloc[i] ==' >50K'):\n",
    "                FP += 1\n",
    "\n",
    "    #accuracy\n",
    "    accuracy = (TP+TN)/(TP+FP+FN+TN)\n",
    "\n",
    "    #recall\n",
    "    recall = TP/(TP+FN)\n",
    "    \n",
    "    #specificity\n",
    "    specificity = TN/(TN+FP)\n",
    "    \n",
    "    print('K = ', k, '\\nAccuracy: ',accuracy, '\\nRecall: ',recall, '\\nSpecificity: ', specificity)\n",
    "    print('\\n')\n",
    "\n",
    "    return accuracy, recall, specificity"
   ]
  },
  {
   "cell_type": "code",
   "execution_count": 78,
   "metadata": {},
   "outputs": [],
   "source": [
    "def crossV(filename, k):\n",
    "    data = pd.read_csv(filename)\n",
    "    \n",
    "    X = data.iloc[:,:-1]\n",
    "    y = data.iloc[:,-1:]\n",
    "    \n",
    "    cv = KFold(n_splits=k, shuffle=False)\n",
    "    \n",
    "    accuracyCrossV = []\n",
    "    recallCrossV = []\n",
    "    specificityCrossV = []\n",
    "\n",
    "    for train_index, test_index in cv.split(X):\n",
    "        X_train, X_test = X.iloc[train_index], X.iloc[test_index]\n",
    "        y_train, y_test = y.iloc[train_index], y.iloc[test_index]\n",
    "        priors, parametersNorm, parametersNum, norminals, numerics = train(X_train, y_train)\n",
    "        predictLabels, classProbs= predict(X_train, X_test, y_train, priors, parametersNorm, parametersNum, norminals, numerics)\n",
    "\n",
    "        accuracy, recall, specificity = evaluateCrossV(predictLabels, y_test, k)\n",
    "        accuracyCrossV.append(accuracy)\n",
    "        recallCrossV.append(recall)\n",
    "        specificityCrossV.append(specificity)\n",
    "     \n",
    "    return accuracyCrossV, recallCrossV, specificityCrossV"
   ]
  },
  {
   "cell_type": "code",
   "execution_count": 79,
   "metadata": {
    "scrolled": true
   },
   "outputs": [
    {
     "name": "stdout",
     "output_type": "stream",
     "text": [
      "K =  2 \n",
      "Accuracy:  0.782 \n",
      "Recall:  0.7881136950904393 \n",
      "Specificity:  0.7610619469026548\n",
      "\n",
      "\n",
      "K =  2 \n",
      "Accuracy:  0.742 \n",
      "Recall:  0.7486910994764397 \n",
      "Specificity:  0.7203389830508474\n",
      "\n",
      "\n",
      "K =  10 \n",
      "Accuracy:  0.72 \n",
      "Recall:  0.6666666666666666 \n",
      "Specificity:  0.88\n",
      "\n",
      "\n",
      "K =  10 \n",
      "Accuracy:  0.79 \n",
      "Recall:  0.7564102564102564 \n",
      "Specificity:  0.9090909090909091\n",
      "\n",
      "\n",
      "K =  10 \n",
      "Accuracy:  0.78 \n",
      "Recall:  0.8181818181818182 \n",
      "Specificity:  0.6521739130434783\n",
      "\n",
      "\n",
      "K =  10 \n",
      "Accuracy:  0.83 \n",
      "Recall:  0.8571428571428571 \n",
      "Specificity:  0.7391304347826086\n",
      "\n",
      "\n",
      "K =  10 \n",
      "Accuracy:  0.81 \n",
      "Recall:  0.8375 \n",
      "Specificity:  0.7\n",
      "\n",
      "\n",
      "K =  10 \n",
      "Accuracy:  0.82 \n",
      "Recall:  0.8227848101265823 \n",
      "Specificity:  0.8095238095238095\n",
      "\n",
      "\n",
      "K =  10 \n",
      "Accuracy:  0.74 \n",
      "Recall:  0.7402597402597403 \n",
      "Specificity:  0.7391304347826086\n",
      "\n",
      "\n",
      "K =  10 \n",
      "Accuracy:  0.7 \n",
      "Recall:  0.75 \n",
      "Specificity:  0.5416666666666666\n",
      "\n",
      "\n",
      "K =  10 \n",
      "Accuracy:  0.78 \n",
      "Recall:  0.8356164383561644 \n",
      "Specificity:  0.6296296296296297\n",
      "\n",
      "\n",
      "K =  10 \n",
      "Accuracy:  0.83 \n",
      "Recall:  0.8571428571428571 \n",
      "Specificity:  0.7391304347826086\n",
      "\n",
      "\n"
     ]
    }
   ],
   "source": [
    "accuracyK2, recallK2, specificityK2 = crossV('adult.csv', 2)\n",
    "accuracyK10, recallK10, specificityK10 = crossV('adult.csv', 10)"
   ]
  },
  {
   "cell_type": "code",
   "execution_count": 92,
   "metadata": {},
   "outputs": [
    {
     "data": {
      "image/png": "[encoded data removed]",
      "text/plain": [
       "<Figure size 432x288 with 1 Axes>"
      ]
     },
     "metadata": {
      "needs_background": "light"
     },
     "output_type": "display_data"
    }
   ],
   "source": [
    "evaluationK2 = [np.mean(accuracyK2), np.mean(recallK2), np.mean(specificityK2)]\n",
    "evaluationK10 = [np.mean(accuracyK10), np.mean(recallK10), np.mean(specificityK10)]\n",
    "evaluationNotCV = [accuracy, cm[0][0]/(cm[0][0] + cm[0][1]), specificity]\n",
    "\n",
    "x = np.arange(3)\n",
    "plt.bar(x-0.2, evaluationK2, 0.2, color='cyan')\n",
    "plt.bar(x, evaluationK10, 0.2, color='orange')\n",
    "plt.bar(x+0.2, evaluationNotCV, 0.2, color='green')\n",
    "plt.xticks(x, ['Accuracy', 'Recall', 'Specificity'])\n",
    "plt.ylabel(\"Evaluation\")\n",
    "\n",
    "plt.legend(['K-fold 2', 'K-fold 10', 'No Cross Validation'])\n",
    "plt.ylim(0, 1.2)\n",
    "plt.show()"
   ]
  },
  {
   "cell_type": "markdown",
   "metadata": {},
   "source": [
    "Form the graph above, we can see that 10-fold have a better performance in general than 2-fold. 2-fold has less run time than 10-fold, but 10-fold performs better. Therefore, we have a trade-off here: higher m leads to better performance but also higher computation cost. This is because, when we have more splits, we have more training data sets and more general model. If the dataset is small, we can try Leave-one-out cross-validation to achieve the best performance of model. "
   ]
  },
  {
   "cell_type": "markdown",
   "metadata": {},
   "source": [
    "### Q3 [4 marks]\n",
    "In `train()`, you are asked to treat the missing value of nominal attributes as a new category. There is another option (as suggested in Thu lecture in week 2): <u>ignoring the missing values</u>. \n",
    "Compare the two methods in both large and small datasets. Comment and explain your observations.\n",
    "You can extract the first 50 records to construct a small dataset.Use Gaussian Naive Bayes only for this question."
   ]
  },
  {
   "cell_type": "code",
   "execution_count": 6,
   "metadata": {},
   "outputs": [],
   "source": [
    "# Write additional code here, if necessary (you may insert additional code cells)"
   ]
  },
  {
   "cell_type": "markdown",
   "metadata": {},
   "source": [
    "Provide your text answer of 150-200 words in this cell."
   ]
  },
  {
   "cell_type": "markdown",
   "metadata": {},
   "source": [
    "### Q4 [4 marks]\n",
    "In week 4, we have learned how to obtain information gain (IG) and gain ratio (GR) to choose an attribute to split a node in a decision tree. We will see how to apply them in the Naive Bayes classification.\n",
    "\n",
    "(a) Compute the GR of each attribute $X_i$, relative to the class distribution. In the Na\\\"ive Bayes classifier, remove attributes in the ascending order of GR: first, remove $P(X_i|c_j)$ such that $X_i$ has the least GR; second, remove $P(X_{i'}|c_j)$ such that $X_{i'}$ has the second least GR,......, until there is only one $X_{i*}$ with the largest GR remaining in the maximand $P(c_j) P(X_{i^*} | c_j)$. Observe the <u>change of the accuracy for both Gaussian and KDE</u> (Choose bandwidth $\\sigma=10$ for KDE).\n",
    "\n",
    "(b) Compute the IG between each pair of attributes. Describe and explain your observations. Choose an attribute and implement an estimator to predict the value of `education num`. Explain why you choose this attribute. Enumerate two other examples that an attribute can be used to estimate the other and explain the reason.  "
   ]
  },
  {
   "cell_type": "code",
   "execution_count": null,
   "metadata": {},
   "outputs": [],
   "source": [
    "# Write additional code here, if necessary (you may insert additional code cells)"
   ]
  },
  {
   "cell_type": "markdown",
   "metadata": {},
   "source": [
    "### (a)"
   ]
  },
  {
   "cell_type": "markdown",
   "metadata": {},
   "source": []
  },
  {
   "cell_type": "markdown",
   "metadata": {},
   "source": [
    "### (b)"
   ]
  },
  {
   "cell_type": "markdown",
   "metadata": {},
   "source": [
    "Provide your text answer to **Question 4.b** of 150-200 words in this cell."
   ]
  },
  {
   "cell_type": "markdown",
   "metadata": {},
   "source": [
    "<b>Authorship Declaration</b>:\n",
    "\n",
    "   (1) I certify that the program contained in this submission is completely\n",
    "   my own individual work, except where explicitly noted by comments that\n",
    "   provide details otherwise.  I understand that work that has been developed\n",
    "   by another student, or by me in collaboration with other students,\n",
    "   or by non-students as a result of request, solicitation, or payment,\n",
    "   may not be submitted for assessment in this subject.  I understand that\n",
    "   submitting for assessment work developed by or in collaboration with\n",
    "   other students or non-students constitutes Academic Misconduct, and\n",
    "   may be penalized by mark deductions, or by other penalties determined\n",
    "   via the University of Melbourne Academic Honesty Policy, as described\n",
    "   at https://academicintegrity.unimelb.edu.au.\n",
    "\n",
    "   (2) I also certify that I have not provided a copy of this work in either\n",
    "   softcopy or hardcopy or any other form to any other student, and nor will\n",
    "   I do so until after the marks are released. I understand that providing\n",
    "   my work to other students, regardless of my intention or any undertakings\n",
    "   made to me by that other student, is also Academic Misconduct.\n",
    "\n",
    "   (3) I further understand that providing a copy of the assignment\n",
    "   specification to any form of code authoring or assignment tutoring\n",
    "   service, or drawing the attention of others to such services and code\n",
    "   that may have been made available via such a service, may be regarded\n",
    "   as Student General Misconduct (interfering with the teaching activities\n",
    "   of the University and/or inciting others to commit Academic Misconduct).\n",
    "   I understand that an allegation of Student General Misconduct may arise\n",
    "   regardless of whether or not I personally make use of such solutions\n",
    "   or sought benefit from such actions.\n",
    "\n",
    "   <b>Signed by</b>: Xiaotong Wang 1132828\n",
    "   \n",
    "   <b>Dated</b>: 31/03/2022"
   ]
  },
  {
   "cell_type": "code",
   "execution_count": null,
   "metadata": {},
   "outputs": [],
   "source": []
  }
 ],
 "metadata": {
  "kernelspec": {
   "display_name": "Python 3",
   "language": "python",
   "name": "python3"
  },
  "language_info": {
   "codemirror_mode": {
    "name": "ipython",
    "version": 3
   },
   "file_extension": ".py",
   "mimetype": "text/x-python",
   "name": "python",
   "nbconvert_exporter": "python",
   "pygments_lexer": "ipython3",
   "version": "3.8.8"
  }
 },
 "nbformat": 4,
 "nbformat_minor": 4
}
